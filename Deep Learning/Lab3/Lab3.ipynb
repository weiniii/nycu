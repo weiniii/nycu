{
 "cells": [
  {
   "cell_type": "code",
   "execution_count": 1,
   "id": "87ccc966",
   "metadata": {},
   "outputs": [],
   "source": [
    "import pandas as pd\n",
    "from torch.utils.data import DataLoader\n",
    "import os\n",
    "import numpy as np\n",
    "from sklearn.metrics import accuracy_score\n",
    "import torch\n",
    "import torch.nn as nn\n",
    "import torch.optim as optim\n",
    "from tqdm.auto import tqdm\n",
    "from PIL import Image\n",
    "import torchvision.transforms as transforms\n",
    "from torchvision import models\n",
    "from torchvision.models import ResNet18_Weights"
   ]
  },
  {
   "cell_type": "code",
   "execution_count": 13,
   "id": "0e841b1d",
   "metadata": {},
   "outputs": [],
   "source": [
    "import pandas as pd\n",
    "from torch.utils import data\n",
    "import numpy as np\n",
    "\n",
    "train_nrows = 28100\n",
    "test_nrows = 7026\n",
    "def getData(mode):\n",
    "    if mode == 'train':\n",
    "        img = pd.read_csv('train_img.csv', header=None, nrows=train_nrows)\n",
    "        label = pd.read_csv('train_label.csv', header=None, nrows=train_nrows)\n",
    "        return np.squeeze(img.values), np.squeeze(label.values)\n",
    "    else:\n",
    "        img = pd.read_csv('test_img.csv', header=None, nrows=test_nrows)\n",
    "        label = pd.read_csv('test_label.csv', header=None, nrows=test_nrows)\n",
    "        return np.squeeze(img.values), np.squeeze(label.values)\n",
    "\n",
    "class RetinopathyLoader(data.Dataset):\n",
    "    def __init__(self, root, mode):\n",
    "        self.root = root\n",
    "        self.img_name, self.label = getData(mode)\n",
    "        self.mode = mode\n",
    "        print(\"> Found %d images...\" % (len(self.img_name)))\n",
    "\n",
    "    def __len__(self):\n",
    "        return len(self.img_name)\n",
    "\n",
    "    def __getitem__(self, index):\n",
    "        label = self.label[index]\n",
    "        img_id = self.img_name[index]\n",
    "        img_path = self.root+str(img_id)+\".jpeg\"\n",
    "        img = np.array(Image.open(img_path))\n",
    "        img = np.transpose(img,(2,0,1))\n",
    "        img = img.astype('float32')\n",
    "        return img, label"
   ]
  },
  {
   "cell_type": "code",
   "execution_count": 8,
   "id": "cd224d19",
   "metadata": {},
   "outputs": [],
   "source": [
    "# model = models.resnet50()\n",
    "# model = models.resnet50(ResNet50_Weights.IMAGENET1K_V2)\n",
    "# model.fc = nn.Linear(2048, 5)"
   ]
  },
  {
   "cell_type": "code",
   "execution_count": 4,
   "id": "7b804d0e",
   "metadata": {},
   "outputs": [],
   "source": [
    "# model = models.resnet18()\n",
    "model = models.resnet18(ResNet18_Weights.DEFAULT)\n",
    "model.fc = nn.Linear(512, 5)"
   ]
  },
  {
   "cell_type": "code",
   "execution_count": 19,
   "id": "4d517bc6",
   "metadata": {},
   "outputs": [],
   "source": [
    "device = \"cuda\" if torch.cuda.is_available() else \"cpu\"\n",
    "Epochs = 10\n",
    "batch_size = 8\n",
    "model = model.to(device)\n",
    "criterion = nn.CrossEntropyLoss()\n",
    "optimizer = torch.optim.SGD(model.parameters(), momentum=0.9, lr=0.0001, weight_decay=1e-5) "
   ]
  },
  {
   "cell_type": "code",
   "execution_count": 16,
   "id": "15f825ec",
   "metadata": {},
   "outputs": [
    {
     "name": "stdout",
     "output_type": "stream",
     "text": [
      "> Found 28100 images...\n"
     ]
    }
   ],
   "source": [
    "train_set = RetinopathyLoader('./data/','train')\n",
    "train_loader = DataLoader(train_set, batch_size=batch_size)"
   ]
  },
  {
   "cell_type": "code",
   "execution_count": 17,
   "id": "be6d34e7",
   "metadata": {},
   "outputs": [
    {
     "name": "stdout",
     "output_type": "stream",
     "text": [
      "> Found 7026 images...\n"
     ]
    }
   ],
   "source": [
    "test_set = RetinopathyLoader('./data/','test')\n",
    "test_loader = DataLoader(test_set, batch_size=batch_size)"
   ]
  },
  {
   "cell_type": "markdown",
   "id": "e895132f",
   "metadata": {},
   "source": [
    "## Training and Testing"
   ]
  },
  {
   "cell_type": "code",
   "execution_count": 70,
   "id": "ef94aa47",
   "metadata": {},
   "outputs": [
    {
     "data": {
      "application/vnd.jupyter.widget-view+json": {
       "model_id": "4f45118d3c604bb68293883ba8dfe212",
       "version_major": 2,
       "version_minor": 0
      },
      "text/plain": [
       "  0%|          | 0/1000 [00:00<?, ?it/s]"
      ]
     },
     "metadata": {},
     "output_type": "display_data"
    },
    {
     "data": {
      "application/vnd.jupyter.widget-view+json": {
       "model_id": "b7496c92b25a40cd8bf6122f30a9d349",
       "version_major": 2,
       "version_minor": 0
      },
      "text/plain": [
       "  0%|          | 0/250 [00:00<?, ?it/s]"
      ]
     },
     "metadata": {},
     "output_type": "display_data"
    },
    {
     "data": {
      "application/vnd.jupyter.widget-view+json": {
       "model_id": "0cce824931fd4da4bcfdbe1814391a28",
       "version_major": 2,
       "version_minor": 0
      },
      "text/plain": [
       "  0%|          | 0/1000 [00:00<?, ?it/s]"
      ]
     },
     "metadata": {},
     "output_type": "display_data"
    },
    {
     "data": {
      "application/vnd.jupyter.widget-view+json": {
       "model_id": "38ff31cda70146fa92b000f2da562765",
       "version_major": 2,
       "version_minor": 0
      },
      "text/plain": [
       "  0%|          | 0/250 [00:00<?, ?it/s]"
      ]
     },
     "metadata": {},
     "output_type": "display_data"
    },
    {
     "data": {
      "application/vnd.jupyter.widget-view+json": {
       "model_id": "a39b4671f7fc4dbba18bb6bafa781329",
       "version_major": 2,
       "version_minor": 0
      },
      "text/plain": [
       "  0%|          | 0/1000 [00:00<?, ?it/s]"
      ]
     },
     "metadata": {},
     "output_type": "display_data"
    },
    {
     "data": {
      "application/vnd.jupyter.widget-view+json": {
       "model_id": "ab337acfd6b244a2b326c60c6168fe8e",
       "version_major": 2,
       "version_minor": 0
      },
      "text/plain": [
       "  0%|          | 0/250 [00:00<?, ?it/s]"
      ]
     },
     "metadata": {},
     "output_type": "display_data"
    },
    {
     "data": {
      "application/vnd.jupyter.widget-view+json": {
       "model_id": "88b31ff8d88a4582a0452d1e4994957d",
       "version_major": 2,
       "version_minor": 0
      },
      "text/plain": [
       "  0%|          | 0/1000 [00:00<?, ?it/s]"
      ]
     },
     "metadata": {},
     "output_type": "display_data"
    },
    {
     "data": {
      "application/vnd.jupyter.widget-view+json": {
       "model_id": "2539f6c245794353b8cd0a8ce5066a3d",
       "version_major": 2,
       "version_minor": 0
      },
      "text/plain": [
       "  0%|          | 0/250 [00:00<?, ?it/s]"
      ]
     },
     "metadata": {},
     "output_type": "display_data"
    },
    {
     "data": {
      "application/vnd.jupyter.widget-view+json": {
       "model_id": "b8cd7ee6d86f415d9b6409591d9bddd2",
       "version_major": 2,
       "version_minor": 0
      },
      "text/plain": [
       "  0%|          | 0/1000 [00:00<?, ?it/s]"
      ]
     },
     "metadata": {},
     "output_type": "display_data"
    },
    {
     "data": {
      "application/vnd.jupyter.widget-view+json": {
       "model_id": "fdf547fada88417c9690d2242083f470",
       "version_major": 2,
       "version_minor": 0
      },
      "text/plain": [
       "  0%|          | 0/250 [00:00<?, ?it/s]"
      ]
     },
     "metadata": {},
     "output_type": "display_data"
    },
    {
     "data": {
      "application/vnd.jupyter.widget-view+json": {
       "model_id": "6a743a0409db493ba2b85f057214df6b",
       "version_major": 2,
       "version_minor": 0
      },
      "text/plain": [
       "  0%|          | 0/1000 [00:00<?, ?it/s]"
      ]
     },
     "metadata": {},
     "output_type": "display_data"
    },
    {
     "data": {
      "application/vnd.jupyter.widget-view+json": {
       "model_id": "e496006315d74bbfb78938cca029efca",
       "version_major": 2,
       "version_minor": 0
      },
      "text/plain": [
       "  0%|          | 0/250 [00:00<?, ?it/s]"
      ]
     },
     "metadata": {},
     "output_type": "display_data"
    },
    {
     "data": {
      "application/vnd.jupyter.widget-view+json": {
       "model_id": "ce681516d57e4e6d91a5e746f1ae4467",
       "version_major": 2,
       "version_minor": 0
      },
      "text/plain": [
       "  0%|          | 0/1000 [00:00<?, ?it/s]"
      ]
     },
     "metadata": {},
     "output_type": "display_data"
    },
    {
     "data": {
      "application/vnd.jupyter.widget-view+json": {
       "model_id": "5291a138d0354d7eb880f0454fad7419",
       "version_major": 2,
       "version_minor": 0
      },
      "text/plain": [
       "  0%|          | 0/250 [00:00<?, ?it/s]"
      ]
     },
     "metadata": {},
     "output_type": "display_data"
    },
    {
     "data": {
      "application/vnd.jupyter.widget-view+json": {
       "model_id": "62d516356c08443db5fb1e6eb581f645",
       "version_major": 2,
       "version_minor": 0
      },
      "text/plain": [
       "  0%|          | 0/1000 [00:00<?, ?it/s]"
      ]
     },
     "metadata": {},
     "output_type": "display_data"
    },
    {
     "data": {
      "application/vnd.jupyter.widget-view+json": {
       "model_id": "7648424511e448f0afd1d863de27ade3",
       "version_major": 2,
       "version_minor": 0
      },
      "text/plain": [
       "  0%|          | 0/250 [00:00<?, ?it/s]"
      ]
     },
     "metadata": {},
     "output_type": "display_data"
    },
    {
     "data": {
      "application/vnd.jupyter.widget-view+json": {
       "model_id": "ec2a4188fccc48a79c28b8dbd0d58b5a",
       "version_major": 2,
       "version_minor": 0
      },
      "text/plain": [
       "  0%|          | 0/1000 [00:00<?, ?it/s]"
      ]
     },
     "metadata": {},
     "output_type": "display_data"
    },
    {
     "data": {
      "application/vnd.jupyter.widget-view+json": {
       "model_id": "0ebc6a00c65b4cfbba27c65927d3bbcb",
       "version_major": 2,
       "version_minor": 0
      },
      "text/plain": [
       "  0%|          | 0/250 [00:00<?, ?it/s]"
      ]
     },
     "metadata": {},
     "output_type": "display_data"
    },
    {
     "data": {
      "application/vnd.jupyter.widget-view+json": {
       "model_id": "fb35907d22c644a4b330e9d2d7d993b0",
       "version_major": 2,
       "version_minor": 0
      },
      "text/plain": [
       "  0%|          | 0/1000 [00:00<?, ?it/s]"
      ]
     },
     "metadata": {},
     "output_type": "display_data"
    },
    {
     "data": {
      "application/vnd.jupyter.widget-view+json": {
       "model_id": "fa2bb323bb964dbcb6d14b7efe8ba2e7",
       "version_major": 2,
       "version_minor": 0
      },
      "text/plain": [
       "  0%|          | 0/250 [00:00<?, ?it/s]"
      ]
     },
     "metadata": {},
     "output_type": "display_data"
    }
   ],
   "source": [
    "# training and testing\n",
    "total_trainp = []\n",
    "total_testp = []\n",
    "for epoch in (range(Epochs)):\n",
    "    # training\n",
    "    model.train()\n",
    "    trainp = 0\n",
    "    for img,lab in tqdm(train_loader):\n",
    "        \n",
    "        img, lab = img.to(device), lab.to(device)\n",
    "        pred = model(img)\n",
    "        loss = criterion(pred, lab)\n",
    "        optimizer.zero_grad()\n",
    "        loss.backward()\n",
    "        optimizer.step()\n",
    "        \n",
    "        acc = (pred.argmax(dim=-1) == lab.to(device)).float().mean()\n",
    "        trainp+=acc*len(lab)\n",
    "    \n",
    "    total_trainp.append(trainp/len(train_set))\n",
    "    print(trainp/len(train_set))\n",
    "    \n",
    "    # testing\n",
    "    model.eval()\n",
    "    testp = 0\n",
    "    for timg,tlab in tqdm(test_loader):\n",
    "        \n",
    "        timg, tlab = timg.to(device), tlab.to(device)\n",
    "        with torch.no_grad():\n",
    "            predd = model(timg)\n",
    "        loss = criterion(predd,tlab)\n",
    "        \n",
    "        acc = (predd.argmax(dim=-1) == tlab.to(device)).float().mean()\n",
    "        testp += acc*len(tlab)\n",
    "        \n",
    "    total_testp.append(testp/len(test_set))\n",
    "    print(testp/len(test_set))"
   ]
  },
  {
   "cell_type": "markdown",
   "id": "78ea030b",
   "metadata": {},
   "source": [
    "## Testing"
   ]
  },
  {
   "cell_type": "code",
   "execution_count": 20,
   "id": "5fb90493",
   "metadata": {},
   "outputs": [
    {
     "data": {
      "text/plain": [
       "<All keys matched successfully>"
      ]
     },
     "execution_count": 20,
     "metadata": {},
     "output_type": "execute_result"
    }
   ],
   "source": [
    "model.load_state_dict(torch.load('80/18pre_80/ResNet18_pre_10s.pth'))"
   ]
  },
  {
   "cell_type": "code",
   "execution_count": 21,
   "id": "2d52a1fd",
   "metadata": {},
   "outputs": [
    {
     "data": {
      "application/vnd.jupyter.widget-view+json": {
       "model_id": "b8542d723c6641c999ae1c37b48e4303",
       "version_major": 2,
       "version_minor": 0
      },
      "text/plain": [
       "  0%|          | 0/879 [00:00<?, ?it/s]"
      ]
     },
     "metadata": {},
     "output_type": "display_data"
    },
    {
     "name": "stdout",
     "output_type": "stream",
     "text": [
      "tensor(0.8012, device='cuda:0')\n"
     ]
    }
   ],
   "source": [
    "model.eval()\n",
    "testp = 0\n",
    "for timg,tlab in tqdm(test_loader):\n",
    "    timg, tlab = timg.to(device), tlab.to(device)\n",
    "    with torch.no_grad():\n",
    "        predd = model(timg)\n",
    "    loss = criterion(predd,tlab)\n",
    "    acc = (predd.argmax(dim=-1) == tlab.to(device)).float().mean()\n",
    "    testp += acc*len(tlab)\n",
    "print(testp/len(test_set))"
   ]
  },
  {
   "cell_type": "code",
   "execution_count": null,
   "id": "886a823f",
   "metadata": {},
   "outputs": [],
   "source": [
    "# torch.save(model.state_dict(), 'ResNet18_10s.pth')"
   ]
  },
  {
   "cell_type": "code",
   "execution_count": null,
   "id": "c220dbf3",
   "metadata": {},
   "outputs": [],
   "source": [
    "# torch.save(total_trainp,'Resnet18_nopretrain.pt')"
   ]
  },
  {
   "cell_type": "code",
   "execution_count": null,
   "id": "bbdbd121",
   "metadata": {},
   "outputs": [],
   "source": [
    "# torch.save(total_testp,'Resnet18_nopretest.pt')"
   ]
  },
  {
   "cell_type": "code",
   "execution_count": null,
   "id": "e348c090",
   "metadata": {},
   "outputs": [],
   "source": []
  }
 ],
 "metadata": {
  "kernelspec": {
   "display_name": "Python 3 (ipykernel)",
   "language": "python",
   "name": "python3"
  },
  "language_info": {
   "codemirror_mode": {
    "name": "ipython",
    "version": 3
   },
   "file_extension": ".py",
   "mimetype": "text/x-python",
   "name": "python",
   "nbconvert_exporter": "python",
   "pygments_lexer": "ipython3",
   "version": "3.9.12"
  }
 },
 "nbformat": 4,
 "nbformat_minor": 5
}
