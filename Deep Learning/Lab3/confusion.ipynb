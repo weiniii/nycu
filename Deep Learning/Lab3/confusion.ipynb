{
 "cells": [
  {
   "cell_type": "code",
   "execution_count": 1,
   "id": "7f82ddff",
   "metadata": {},
   "outputs": [],
   "source": [
    "from sklearn.metrics import confusion_matrix\n",
    "import pandas as pd\n",
    "from torch.utils.data import DataLoader\n",
    "import numpy as np\n",
    "import torch\n",
    "import torch.nn as nn\n",
    "from tqdm.auto import tqdm\n",
    "from PIL import Image\n",
    "from torchvision import models\n",
    "from torchvision.models import ResNet18_Weights\n",
    "import numpy\n",
    "import matplotlib.pyplot as plt\n",
    "import seaborn as sns"
   ]
  },
  {
   "cell_type": "code",
   "execution_count": 2,
   "id": "bcdbc62a",
   "metadata": {},
   "outputs": [],
   "source": [
    "import pandas as pd\n",
    "from torch.utils import data\n",
    "import numpy as np\n",
    "\n",
    "def getData(mode):\n",
    "    if mode == 'train':\n",
    "        img = pd.read_csv('train_img.csv', header=None)\n",
    "        label = pd.read_csv('train_label.csv', header=None)\n",
    "        return np.squeeze(img.values), np.squeeze(label.values)\n",
    "    else:\n",
    "        img = pd.read_csv('test_img.csv', header=None)\n",
    "        label = pd.read_csv('test_label.csv', header=None)\n",
    "        return np.squeeze(img.values), np.squeeze(label.values)\n",
    "\n",
    "class RetinopathyLoader(data.Dataset):\n",
    "    def __init__(self, root, mode):\n",
    "        self.root = root\n",
    "        self.img_name, self.label = getData(mode)\n",
    "        self.mode = mode\n",
    "        print(\"> Found %d images...\" % (len(self.img_name)))\n",
    "\n",
    "    def __len__(self):\n",
    "        return len(self.img_name)\n",
    "\n",
    "    def __getitem__(self, index):\n",
    "        label = self.label[index]\n",
    "        img_id = self.img_name[index]\n",
    "        img_path = self.root+str(img_id)+\".jpeg\"\n",
    "        img = np.array(Image.open(img_path))\n",
    "        img = np.transpose(img,(2,0,1))\n",
    "        img = img.astype('float32')\n",
    "        return img, label"
   ]
  },
  {
   "cell_type": "code",
   "execution_count": 3,
   "id": "bc132f88",
   "metadata": {},
   "outputs": [
    {
     "name": "stdout",
     "output_type": "stream",
     "text": [
      "> Found 7026 images...\n",
      "> Found 28100 images...\n"
     ]
    }
   ],
   "source": [
    "test_set = RetinopathyLoader('./data/','test')\n",
    "test_loader = DataLoader(test_set, batch_size=8)\n",
    "train_set = RetinopathyLoader('./data/','train')\n",
    "train_loader = DataLoader(train_set, batch_size=8)"
   ]
  },
  {
   "cell_type": "code",
   "execution_count": 4,
   "id": "3808c206",
   "metadata": {},
   "outputs": [],
   "source": [
    "model = models.resnet18()\n",
    "model.fc = nn.Linear(512, 5)"
   ]
  },
  {
   "cell_type": "code",
   "execution_count": 4,
   "id": "47c7c03b",
   "metadata": {},
   "outputs": [],
   "source": [
    "model = models.resnet50()\n",
    "model.fc = nn.Linear(2048, 5)"
   ]
  },
  {
   "cell_type": "code",
   "execution_count": 5,
   "id": "526f0318",
   "metadata": {},
   "outputs": [
    {
     "data": {
      "text/plain": [
       "<All keys matched successfully>"
      ]
     },
     "execution_count": 5,
     "metadata": {},
     "output_type": "execute_result"
    }
   ],
   "source": [
    "model.load_state_dict(torch.load('80/50nopre/ResNet50_nopre_10s.pth'))"
   ]
  },
  {
   "cell_type": "code",
   "execution_count": 6,
   "id": "30f4ae10",
   "metadata": {},
   "outputs": [],
   "source": [
    "device = \"cuda\" if torch.cuda.is_available() else \"cpu\"\n",
    "Epochs = 5\n",
    "batch_size = 8\n",
    "model = model.to(device)\n",
    "criterion = nn.CrossEntropyLoss()\n",
    "optimizer = torch.optim.SGD(model.parameters(), momentum=0.9, lr=0.0001, weight_decay=1e-5)"
   ]
  },
  {
   "cell_type": "code",
   "execution_count": 7,
   "id": "3f96775f",
   "metadata": {},
   "outputs": [
    {
     "data": {
      "application/vnd.jupyter.widget-view+json": {
       "model_id": "b6ce67ca69a14fcba720c108f3b9c604",
       "version_major": 2,
       "version_minor": 0
      },
      "text/plain": [
       "  0%|          | 0/879 [00:00<?, ?it/s]"
      ]
     },
     "metadata": {},
     "output_type": "display_data"
    }
   ],
   "source": [
    "py = []\n",
    "testp = 0\n",
    "model.eval()\n",
    "for timg,tlab in tqdm(test_loader):\n",
    "\n",
    "    timg, tlab = timg.to(device), tlab.to(device)\n",
    "    with torch.no_grad():\n",
    "        predd = model(timg)\n",
    "    py.extend(predd.argmax(dim=-1))\n",
    "    loss = criterion(predd,tlab)\n",
    "    acc = (predd.argmax(dim=-1) == tlab.to(device)).float().mean()\n",
    "    testp += acc*len(tlab)\n"
   ]
  },
  {
   "cell_type": "code",
   "execution_count": 8,
   "id": "a40d1d87",
   "metadata": {},
   "outputs": [
    {
     "data": {
      "text/plain": [
       "tensor(0.7284, device='cuda:0')"
      ]
     },
     "execution_count": 8,
     "metadata": {},
     "output_type": "execute_result"
    }
   ],
   "source": [
    "testp/7026"
   ]
  },
  {
   "cell_type": "code",
   "execution_count": 9,
   "id": "cd4c5ba1",
   "metadata": {},
   "outputs": [],
   "source": [
    "pred = np.array(torch.tensor(py,device='cpu'))"
   ]
  },
  {
   "cell_type": "code",
   "execution_count": 10,
   "id": "90a5b724",
   "metadata": {},
   "outputs": [],
   "source": [
    "y_true = np.squeeze(pd.read_csv('test_label.csv', header=None))"
   ]
  },
  {
   "cell_type": "code",
   "execution_count": 11,
   "id": "36185de3",
   "metadata": {},
   "outputs": [],
   "source": [
    "y_true = y_true.to_numpy()"
   ]
  },
  {
   "cell_type": "code",
   "execution_count": 12,
   "id": "9f65f927",
   "metadata": {},
   "outputs": [],
   "source": [
    "np.set_printoptions(formatter={'float': '{: .2f}'.format})"
   ]
  },
  {
   "cell_type": "code",
   "execution_count": 13,
   "id": "df4fa5ad",
   "metadata": {},
   "outputs": [],
   "source": [
    "mat_con = confusion_matrix(y_true, pred,labels=[0,1,2,3,4])\n",
    "mat_con = mat_con.astype('float') / mat_con.sum(axis=1)[:, np.newaxis]"
   ]
  },
  {
   "cell_type": "code",
   "execution_count": 15,
   "id": "059657dd",
   "metadata": {},
   "outputs": [
    {
     "data": {
      "image/png": "[encoded data removed]",
      "text/plain": [
       "<Figure size 576x432 with 2 Axes>"
      ]
     },
     "metadata": {
      "needs_background": "light"
     },
     "output_type": "display_data"
    }
   ],
   "source": [
    "ax = plt.subplots(figsize=(8,6))\n",
    "ax = sns.heatmap(mat_con, annot=True, cmap='Blues',fmt='.2f')\n",
    "ax.set_title('Confusion Matrix of ResNet50 without pretrain\\n',fontsize = 18);\n",
    "ax.set_xlabel('\\nPredicted Label')\n",
    "ax.set_ylabel('True Label');\n",
    "## Ticket labels - List must be in alphabetical order\n",
    "ax.xaxis.set_ticklabels([0,1,2,3,4])\n",
    "ax.yaxis.set_ticklabels([0,1,2,3,4])\n",
    "## Display the visualization of the Confusion Matrix.\n",
    "plt.show()"
   ]
  },
  {
   "cell_type": "code",
   "execution_count": null,
   "id": "63e7fd9a",
   "metadata": {},
   "outputs": [],
   "source": []
  }
 ],
 "metadata": {
  "kernelspec": {
   "display_name": "Python 3 (ipykernel)",
   "language": "python",
   "name": "python3"
  },
  "language_info": {
   "codemirror_mode": {
    "name": "ipython",
    "version": 3
   },
   "file_extension": ".py",
   "mimetype": "text/x-python",
   "name": "python",
   "nbconvert_exporter": "python",
   "pygments_lexer": "ipython3",
   "version": "3.9.12"
  }
 },
 "nbformat": 4,
 "nbformat_minor": 5
}
